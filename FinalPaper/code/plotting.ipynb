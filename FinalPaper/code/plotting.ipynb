{
 "cells": [
  {
   "cell_type": "code",
   "execution_count": 3,
   "metadata": {
    "jupyter": {
     "outputs_hidden": true
    }
   },
   "outputs": [],
   "source": [
    "import numpy as np\n",
    "import pandas as pd\n",
    "import scikitplot as skplt\n",
    "import matplotlib.pyplot as plt\n",
    "from sklearn.metrics import *\n",
    "from seaborn import FacetGrid, factorplot\n",
    "from pylab import figure, text, scatter, show\n",
    "import warnings\n",
    "warnings.filterwarnings('ignore')\n",
    "from sklearn.metrics import *\n",
    "import seaborn as sb\n",
    "from seaborn import FacetGrid, factorplot\n",
    "from pylab import figure, text, scatter, show\n",
    "import warnings\n",
    "warnings.filterwarnings('ignore')\n",
    "sb.set(font_scale=3)\n",
    "import seaborn as sns\n",
    "from sklearn.model_selection import train_test_split, GridSearchCV\n",
    "from sklearn.linear_model import LinearRegression, Ridge, LassoCV, ElasticNetCV\n",
    "from sklearn.metrics import mean_squared_error\n",
    "from sklearn.linear_model import LinearRegression\n",
    "from sklearn.metrics import r2_score\n",
    "import itertools\n",
    "import statsmodels.api as sm\n",
    "from mlxtend.feature_selection import SequentialFeatureSelector as sfs"
   ]
  },
  {
   "cell_type": "code",
   "execution_count": 28,
   "metadata": {},
   "outputs": [],
   "source": [
    "df = pd.DataFrame(index=['black&white', 'black', 'white'])\n",
    "df['Accuracy'] = [0.5995525727069351, 0.6573754316724223, 0.713078618662748]\n",
    "df['Accuracy'] = df['Accuracy'].astype(float).map(\"{:.2%}\".format)"
   ]
  },
  {
   "cell_type": "code",
   "execution_count": 29,
   "metadata": {},
   "outputs": [],
   "source": [
    "df['False postive'] = [0.1644295302013423, 0.15964523281596452, 0.08250825082508251]\n",
    "df['False postive'] = df['False postive'].astype(float).map(\"{:.2%}\".format)"
   ]
  },
  {
   "cell_type": "code",
   "execution_count": 30,
   "metadata": {},
   "outputs": [],
   "source": [
    "df['False negative'] = [0.2360178970917226,0.17738359201773837, 0.1848184818481848]\n",
    "df['False negative'] = df['False negative'].astype(float).map(\"{:.2%}\".format)"
   ]
  },
  {
   "cell_type": "code",
   "execution_count": 31,
   "metadata": {},
   "outputs": [
    {
     "data": {
      "text/html": [
       "<div>\n",
       "<style scoped>\n",
       "    .dataframe tbody tr th:only-of-type {\n",
       "        vertical-align: middle;\n",
       "    }\n",
       "\n",
       "    .dataframe tbody tr th {\n",
       "        vertical-align: top;\n",
       "    }\n",
       "\n",
       "    .dataframe thead th {\n",
       "        text-align: right;\n",
       "    }\n",
       "</style>\n",
       "<table border=\"1\" class=\"dataframe\">\n",
       "  <thead>\n",
       "    <tr style=\"text-align: right;\">\n",
       "      <th></th>\n",
       "      <th>Accuracy</th>\n",
       "      <th>False postive</th>\n",
       "      <th>False negative</th>\n",
       "    </tr>\n",
       "  </thead>\n",
       "  <tbody>\n",
       "    <tr>\n",
       "      <td>black&amp;white</td>\n",
       "      <td>59.96%</td>\n",
       "      <td>16.44%</td>\n",
       "      <td>23.60%</td>\n",
       "    </tr>\n",
       "    <tr>\n",
       "      <td>black</td>\n",
       "      <td>65.74%</td>\n",
       "      <td>15.96%</td>\n",
       "      <td>17.74%</td>\n",
       "    </tr>\n",
       "    <tr>\n",
       "      <td>white</td>\n",
       "      <td>71.31%</td>\n",
       "      <td>8.25%</td>\n",
       "      <td>18.48%</td>\n",
       "    </tr>\n",
       "  </tbody>\n",
       "</table>\n",
       "</div>"
      ],
      "text/plain": [
       "            Accuracy False postive False negative\n",
       "black&white   59.96%        16.44%         23.60%\n",
       "black         65.74%        15.96%         17.74%\n",
       "white         71.31%         8.25%         18.48%"
      ]
     },
     "execution_count": 31,
     "metadata": {},
     "output_type": "execute_result"
    }
   ],
   "source": [
    "df"
   ]
  },
  {
   "cell_type": "code",
   "execution_count": null,
   "metadata": {},
   "outputs": [],
   "source": []
  },
  {
   "cell_type": "code",
   "execution_count": null,
   "metadata": {},
   "outputs": [],
   "source": []
  },
  {
   "cell_type": "code",
   "execution_count": 4,
   "metadata": {
    "jupyter": {
     "outputs_hidden": true
    },
    "scrolled": false
   },
   "outputs": [],
   "source": [
    "df = pd.read_csv(\"compas-scores-two-years.csv\")\n",
    "df = df[(df['days_b_screening_arrest'] >= -30) & (df['days_b_screening_arrest'] <= 30) & (df['is_recid'] != -1) & \n",
    "      (df['c_charge_degree'] != 'O') & (df['score_text'] != 'N/A')]\n",
    "\n",
    "df = df.iloc[:,[5,7,8,9,11,24,33,40,43,44,51,52]]\n",
    "\n",
    "df.loc[df['decile_score'] <  8, 'p_recid'] = 0\n",
    "df.loc[df['decile_score'] >=  8, 'p_recid'] = 1\n",
    "df['p_recid'] = df['p_recid'].astype(int)\n",
    "\n",
    "df.loc[df['v_decile_score'] <  8, 'v_p_recid'] = 0\n",
    "df.loc[df['v_decile_score'] >=  8, 'v_p_recid'] = 1\n",
    "df['v_p_recid'] = df['v_p_recid'].astype(int)\n"
   ]
  },
  {
   "cell_type": "code",
   "execution_count": 5,
   "metadata": {},
   "outputs": [],
   "source": [
    "black = df.loc[df['race'] == 'African-American']\n",
    "black['sex'] = black.sex.apply(lambda x: 0 if x=='Male' else 1)\n",
    "black = black.drop(['race','age_cat', 'score_text','v_score_text'], axis=1)"
   ]
  },
  {
   "cell_type": "code",
   "execution_count": 6,
   "metadata": {},
   "outputs": [],
   "source": [
    "X_train = black.drop('is_recid', axis=1)\n",
    "X_test = black.drop('is_recid', axis=1)\n",
    "y_train = black['is_recid']\n",
    "y_test = black['is_recid']\n",
    "\n",
    "def model_mse(model):\n",
    "    fit_model = model().fit(X_train, y_train)\n",
    "    MSE = mean_squared_error(fit_model.predict(X_test), y_test)\n",
    "    mse = \"The test MSE of this model is: \" + str(MSE)\n",
    "    return mse, fit_model"
   ]
  },
  {
   "cell_type": "code",
   "execution_count": 7,
   "metadata": {},
   "outputs": [
    {
     "data": {
      "text/plain": [
       "('The test MSE of this model is: 0.02774195250642864',\n",
       " LinearRegression(copy_X=True, fit_intercept=True, n_jobs=None, normalize=False))"
      ]
     },
     "execution_count": 7,
     "metadata": {},
     "output_type": "execute_result"
    }
   ],
   "source": [
    "model_mse(LinearRegression)"
   ]
  },
  {
   "cell_type": "code",
   "execution_count": 8,
   "metadata": {},
   "outputs": [
    {
     "name": "stdout",
     "output_type": "stream",
     "text": [
      "The test MSE for ridge regression is 0.027742347949400607\n"
     ]
    }
   ],
   "source": [
    "para_ridge = {'alpha':[0.1, 0.2, 0.3, 0.4, 0.5, 0.6, 0.7, 0.8, 0.9, 1.0]}\n",
    "ridge_regressor = GridSearchCV(Ridge(), para_ridge, scoring='neg_mean_squared_error', cv=10)\n",
    "ridge_regressor.fit(X_train, y_train)\n",
    "mse_ridge = mean_squared_error(ridge_regressor.predict(X_test), y_test)\n",
    "print('The test MSE for ridge regression is', mse_ridge)"
   ]
  },
  {
   "cell_type": "code",
   "execution_count": null,
   "metadata": {},
   "outputs": [],
   "source": []
  },
  {
   "cell_type": "code",
   "execution_count": null,
   "metadata": {},
   "outputs": [],
   "source": []
  },
  {
   "cell_type": "code",
   "execution_count": 9,
   "metadata": {
    "jupyter": {
     "outputs_hidden": true
    }
   },
   "outputs": [],
   "source": [
    "df2 = df.loc[(df['race'] != 'Asian') & (df['race'] != 'Other') & (df['race'] != 'Native American') & (df['race'] != 'Hispanic')]\n",
    "df_group = pd.DataFrame(df2.groupby(['score_text','race','is_recid'])['is_recid'].count().unstack())\n",
    "df_group['total'] = df_group[0] + df_group[1]\n",
    "df_group['Likelihood of Recidivism'] = df_group[1]/df_group['total']\n",
    "\n",
    "df2v = df.loc[(df['race'] != 'Asian') & (df['race'] != 'Other') & (df['race'] != 'Native American')& (df['race'] != 'Hispanic')]\n",
    "df_groupv = pd.DataFrame(df2v.groupby(['v_score_text','race','is_violent_recid'])['is_recid'].count().unstack())\n",
    "df_groupv['total'] = df_groupv[0] + df_groupv[1]\n",
    "df_groupv['Likelihood of Recidivism'] = df_groupv[1]/df_groupv['total']"
   ]
  },
  {
   "cell_type": "code",
   "execution_count": 10,
   "metadata": {
    "jupyter": {
     "outputs_hidden": true
    }
   },
   "outputs": [],
   "source": [
    "p = df_group.reset_index()\n",
    "p = p.iloc[:,[0,1,5]]\n",
    "pv = df_groupv.reset_index()\n",
    "pv = pv.iloc[:,[0,1,5]]\n",
    "pp = p\n",
    "pp['type'] = 'Recidivism'\n",
    "ppv = pv\n",
    "ppv['type'] = 'Violent Recidivism'\n",
    "ppv.columns = pp.columns\n",
    "P3 = pp.append(ppv)\n",
    "P3.columns.values[0]='Risk Score'"
   ]
  },
  {
   "cell_type": "markdown",
   "metadata": {},
   "source": [
    "Plot likelihood of recidivism for each type, by race and risk score"
   ]
  },
  {
   "cell_type": "markdown",
   "metadata": {},
   "source": [
    "Create seperate dataframes for each race of interest"
   ]
  },
  {
   "cell_type": "code",
   "execution_count": 12,
   "metadata": {
    "jupyter": {
     "outputs_hidden": true
    }
   },
   "outputs": [],
   "source": [
    "df2['high'] = 0\n",
    "df2['low'] = 0\n",
    "aa = df2.loc[df2.race == \"African-American\"]\n",
    "w = df2.loc[df2.race == \"Caucasian\"]\n",
    "\n",
    "aa.loc[aa['score_text'] ==  'High', 'high'] = 1\n",
    "aa.loc[aa['score_text'] ==  'Medium', 'medium'] = 1\n",
    "aa.loc[aa['score_text'] ==  'Low', 'low'] = 1\n",
    "\n",
    "w.loc[w['score_text'] ==  'High', 'high'] = 1\n",
    "w.loc[w['score_text'] ==  'Low', 'low'] = 1\n"
   ]
  },
  {
   "cell_type": "markdown",
   "metadata": {},
   "source": [
    "Get confusion matrix of each race"
   ]
  },
  {
   "cell_type": "code",
   "execution_count": 13,
   "metadata": {
    "jupyter": {
     "outputs_hidden": true
    }
   },
   "outputs": [],
   "source": [
    "aa_low = confusion_matrix(aa.low,aa.is_recid)\n",
    "aa_high = confusion_matrix(aa.high,aa.is_recid)\n",
    "\n",
    "w_low = confusion_matrix(w.low,w.is_recid)\n",
    "w_high = confusion_matrix(w.high,w.is_recid)\n",
    "\n"
   ]
  },
  {
   "cell_type": "code",
   "execution_count": 14,
   "metadata": {
    "jupyter": {
     "outputs_hidden": true
    }
   },
   "outputs": [],
   "source": [
    "aa_high_FP, aa_low_FN = round(aa_high[1][0]/np.sum(aa_high)*100,2), round(aa_low[1][1]/np.sum(aa_low)*100,2)\n",
    "w_high_FP, w_low_FN = round(w_high[1][0]/np.sum(w_high)*100,2), round(w_low[1][1]/np.sum(w_low)*100,2)\n",
    "\n",
    "aa_ppv = precision_score(aa['is_recid'],aa['p_recid'])*100\n",
    "w_ppv = precision_score(w['is_recid'],w['p_recid'])*100\n",
    "\n",
    "aa_npv, w_npv = 100 - aa_ppv, 100 - w_ppv"
   ]
  },
  {
   "cell_type": "markdown",
   "metadata": {},
   "source": [
    "Group False Positives/Negatives by race and plot"
   ]
  },
  {
   "cell_type": "code",
   "execution_count": 15,
   "metadata": {},
   "outputs": [],
   "source": [
    "cols = ['Race','Metric', 'Score %']\n",
    "x = pd.DataFrame(np.zeros((4, 3)), columns=cols)\n",
    "x['Race'] = ['African-American','Caucasian'] * 2\n",
    "x['Metric'] = ['False Positive','False Positive','False Negative','False Negative']\n",
    "x['Score %'] = [aa_high_FP,w_high_FP,aa_low_FN,w_low_FN]"
   ]
  },
  {
   "cell_type": "code",
   "execution_count": 26,
   "metadata": {},
   "outputs": [
    {
     "data": {
      "image/png": "[encoded data removed]",
      "text/plain": [
       "<Figure size 432x432 with 1 Axes>"
      ]
     },
     "metadata": {},
     "output_type": "display_data"
    }
   ],
   "source": [
    "sb.set(font_scale=1.5)\n",
    "ax = factorplot(x='Metric', y='Score %', hue='Race', data=x, kind='bar', palette= \"pastel\", size = 6, aspect = 1, \n",
    "                legend = False) \n",
    "plt.legend(loc='upper left', prop={'size': 14})\n",
    "plt.show()"
   ]
  },
  {
   "cell_type": "markdown",
   "metadata": {},
   "source": [
    "Get the ROC and AUC values for the COMPAS prediction system, by race, and plot them"
   ]
  },
  {
   "cell_type": "code",
   "execution_count": 16,
   "metadata": {},
   "outputs": [],
   "source": [
    "y_true = df['is_recid']\n",
    "y_probas = df['decile_score']\n",
    "fpr, tpr, thresholds = roc_curve(y_true, y_probas, pos_label=0)"
   ]
  },
  {
   "cell_type": "code",
   "execution_count": 17,
   "metadata": {},
   "outputs": [],
   "source": [
    "afpr, atpr, athresholds = roc_curve(aa['is_recid'], aa['decile_score'], pos_label=0)\n",
    "wfpr, wtpr, wthresholds = roc_curve(w['is_recid'], w['decile_score'], pos_label=0)\n",
    "aauc = np.trapz(afpr, atpr)\n",
    "wauc = np.trapz(wfpr, wtpr)"
   ]
  },
  {
   "cell_type": "code",
   "execution_count": 26,
   "metadata": {},
   "outputs": [
    {
     "data": {
      "image/png": "[encoded data removed]",
      "text/plain": [
       "<Figure size 864x432 with 1 Axes>"
      ]
     },
     "metadata": {},
     "output_type": "display_data"
    }
   ],
   "source": [
    "sb.set(font_scale=1.5)\n",
    "plt.figure(figsize=(12,6))\n",
    "plt.plot(atpr,afpr,color='olive',label=\"African-Americans, AUC = \"+str(round(aauc,3)))\n",
    "plt.plot(wtpr,wfpr,color='skyblue',label=\"Caucasians, AUC  = \"+ str(round(wauc,3)))\n",
    "plt.title(\"ROC Curves by Race\", fontsize = 15, fontweight= \"bold\")\n",
    "plt.legend(loc='upper left', prop={'size': 14})\n",
    "plt.show()"
   ]
  }
 ],
 "metadata": {
  "kernelspec": {
   "display_name": "Python 3",
   "language": "python",
   "name": "python3"
  },
  "language_info": {
   "codemirror_mode": {
    "name": "ipython",
    "version": 3
   },
   "file_extension": ".py",
   "mimetype": "text/x-python",
   "name": "python",
   "nbconvert_exporter": "python",
   "pygments_lexer": "ipython3",
   "version": "3.7.4"
  }
 },
 "nbformat": 4,
 "nbformat_minor": 4
}
